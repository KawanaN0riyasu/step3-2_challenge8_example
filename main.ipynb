{
 "cells": [
  {
   "cell_type": "markdown",
   "metadata": {},
   "source": [
    "> Step1_現在時刻データを取得してDB(SQLite)に保存"
   ]
  },
  {
   "cell_type": "code",
   "execution_count": 2,
   "metadata": {},
   "outputs": [
    {
     "name": "stdout",
     "output_type": "stream",
     "text": [
      "データを取得しています... 2024-08-04 12:20:14\n"
     ]
    }
   ],
   "source": [
    "import sqlite3\n",
    "from datetime import datetime\n",
    "\n",
    "# データベースに接続し、カーソルを作成\n",
    "conn = sqlite3.connect('sample.db')\n",
    "c = conn.cursor()\n",
    "\n",
    "# テーブルを作成（存在しない場合）\n",
    "c.execute('''CREATE TABLE IF NOT EXISTS data_log (timestamp TEXT)''')\n",
    "conn.commit()\n",
    "\n",
    "# 現在時刻を取得してデータベースに保存\n",
    "current_time = datetime.now().strftime('%Y-%m-%d %H:%M:%S')\n",
    "print(f\"データを取得しています... {current_time}\")\n",
    "c.execute(\"INSERT INTO data_log (timestamp) VALUES (?)\", (current_time,))\n",
    "conn.commit()\n",
    "\n",
    "# データベース接続を閉じる\n",
    "conn.close()"
   ]
  },
  {
   "cell_type": "markdown",
   "metadata": {},
   "source": [
    ">Step2_コード工夫で定期実行"
   ]
  },
  {
   "cell_type": "code",
   "execution_count": 6,
   "metadata": {},
   "outputs": [
    {
     "name": "stdout",
     "output_type": "stream",
     "text": [
      "データを取得しています... 2024-08-04 12:25:12\n",
      "データを取得しています... 2024-08-04 12:25:13\n",
      "データを取得しています... 2024-08-04 12:25:14\n",
      "データを取得しています... 2024-08-04 12:25:15\n",
      "データを取得しています... 2024-08-04 12:25:16\n",
      "データを取得しています... 2024-08-04 12:25:17\n",
      "データを取得しています... 2024-08-04 12:25:18\n",
      "データを取得しています... 2024-08-04 12:25:19\n",
      "データを取得しています... 2024-08-04 12:25:20\n",
      "データを取得しています... 2024-08-04 12:25:21\n"
     ]
    }
   ],
   "source": [
    "import sqlite3\n",
    "from datetime import datetime\n",
    "import time\n",
    "\n",
    "# データベースに接続し、カーソルを作成\n",
    "conn = sqlite3.connect('sample.db')\n",
    "c = conn.cursor()\n",
    "\n",
    "# テーブルを作成（存在しない場合）\n",
    "c.execute('''CREATE TABLE IF NOT EXISTS data_log (timestamp TEXT)''')\n",
    "conn.commit()\n",
    "\n",
    "# 10秒間、1秒ごとに現在時刻を取得してデータベースに保存\n",
    "start_time = time.time()\n",
    "while time.time() - start_time < 10:\n",
    "    current_time = datetime.now().strftime('%Y-%m-%d %H:%M:%S')\n",
    "    print(f\"データを取得しています... {current_time}\")\n",
    "    c.execute(\"INSERT INTO data_log (timestamp) VALUES (?)\", (current_time,))\n",
    "    conn.commit()\n",
    "    time.sleep(1)\n",
    "\n",
    "# データベース接続を閉じる\n",
    "conn.close()"
   ]
  },
  {
   "cell_type": "markdown",
   "metadata": {},
   "source": [
    ">Step3_関数化＆scheduleライブラリを使ってコードの可読性と再利用性を高める"
   ]
  },
  {
   "cell_type": "code",
   "execution_count": 2,
   "metadata": {},
   "outputs": [
    {
     "name": "stdout",
     "output_type": "stream",
     "text": [
      "データを取得しています... 2024-08-04 13:22:44\n",
      "データを取得しています... 2024-08-04 13:22:45\n",
      "データを取得しています... 2024-08-04 13:22:46\n",
      "データを取得しています... 2024-08-04 13:22:47\n",
      "データを取得しています... 2024-08-04 13:22:48\n",
      "データを取得しています... 2024-08-04 13:22:49\n",
      "データを取得しています... 2024-08-04 13:22:50\n",
      "データを取得しています... 2024-08-04 13:22:51\n",
      "データを取得しています... 2024-08-04 13:22:52\n"
     ]
    }
   ],
   "source": [
    "import sqlite3\n",
    "from datetime import datetime\n",
    "import schedule\n",
    "import time\n",
    "\n",
    "# データベースに接続し、カーソルを作成\n",
    "conn = sqlite3.connect('sample.db')\n",
    "c = conn.cursor()\n",
    "\n",
    "# テーブルを作成（存在しない場合）\n",
    "c.execute('''CREATE TABLE IF NOT EXISTS data_log (timestamp TEXT)''')\n",
    "conn.commit()\n",
    "\n",
    "# 現在時刻を取得してデータベースに保存する関数\n",
    "def fetch_data():\n",
    "    # 現在時刻を取得\n",
    "    current_time = datetime.now().strftime('%Y-%m-%d %H:%M:%S')\n",
    "    print(f\"データを取得しています... {current_time}\")\n",
    "    # データベースに保存\n",
    "    c.execute(\"INSERT INTO data_log (timestamp) VALUES (?)\", (current_time,))\n",
    "    conn.commit()\n",
    "\n",
    "# 1秒ごとにfetch_data関数を実行するようにスケジュール\n",
    "schedule.every(1).seconds.do(fetch_data)\n",
    "\n",
    "# 10秒間スケジュールを実行\n",
    "start_time = time.time()\n",
    "while time.time() - start_time < 10:\n",
    "    schedule.run_pending()\n",
    "    time.sleep(1)\n",
    "\n",
    "# データベース接続を閉じる\n",
    "conn.close()"
   ]
  }
 ],
 "metadata": {
  "kernelspec": {
   "display_name": "Python 3",
   "language": "python",
   "name": "python3"
  },
  "language_info": {
   "codemirror_mode": {
    "name": "ipython",
    "version": 3
   },
   "file_extension": ".py",
   "mimetype": "text/x-python",
   "name": "python",
   "nbconvert_exporter": "python",
   "pygments_lexer": "ipython3",
   "version": "3.12.4"
  }
 },
 "nbformat": 4,
 "nbformat_minor": 2
}
