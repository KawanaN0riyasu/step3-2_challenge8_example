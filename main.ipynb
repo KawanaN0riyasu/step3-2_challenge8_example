{
 "cells": [
  {
   "cell_type": "markdown",
   "metadata": {},
   "source": [
    "> Step1_現在時刻データを取得してDB(SQLite)に保存"
   ]
  },
  {
   "cell_type": "code",
   "execution_count": null,
   "metadata": {},
   "outputs": [],
   "source": [
    "import sqlite3\n",
    "from datetime import datetime\n",
    "\n",
    "# データベースに接続し、カーソルを作成\n",
    "conn = sqlite3.connect('sample.db')\n",
    "c = conn.cursor()\n",
    "\n",
    "# テーブルを作成（存在しない場合）\n",
    "c.execute('''CREATE TABLE IF NOT EXISTS data_log (timestamp TEXT)''')\n",
    "conn.commit()\n",
    "\n",
    "# 現在時刻を取得してデータベースに保存\n",
    "current_time = datetime.now().strftime('%Y-%m-%d %H:%M:%S')\n",
    "print(f\"データを取得しています... {current_time}\")\n",
    "c.execute(\"INSERT INTO data_log (timestamp) VALUES (?)\", (current_time,))\n",
    "conn.commit()\n",
    "\n",
    "# データベース接続を閉じる\n",
    "conn.close()"
   ]
  },
  {
   "cell_type": "markdown",
   "metadata": {},
   "source": [
    ">Step2_コード工夫で定期実行"
   ]
  },
  {
   "cell_type": "code",
   "execution_count": 1,
   "metadata": {},
   "outputs": [
    {
     "name": "stdout",
     "output_type": "stream",
     "text": [
      "データを取得しています... 2024-08-04 14:23:44\n",
      "データを取得しています... 2024-08-04 14:23:46\n",
      "データを取得しています... 2024-08-04 14:23:47\n",
      "データを取得しています... 2024-08-04 14:23:48\n",
      "データを取得しています... 2024-08-04 14:23:49\n",
      "データを取得しています... 2024-08-04 14:23:50\n",
      "データを取得しています... 2024-08-04 14:23:51\n",
      "データを取得しています... 2024-08-04 14:23:52\n",
      "データを取得しています... 2024-08-04 14:23:53\n",
      "データを取得しています... 2024-08-04 14:23:54\n"
     ]
    }
   ],
   "source": [
    "import sqlite3\n",
    "from datetime import datetime\n",
    "import time\n",
    "\n",
    "# データベースに接続し、カーソルを作成\n",
    "conn = sqlite3.connect('sample.db')\n",
    "c = conn.cursor()\n",
    "\n",
    "# テーブルを作成（存在しない場合）\n",
    "c.execute('''CREATE TABLE IF NOT EXISTS data_log (timestamp TEXT)''')\n",
    "conn.commit()\n",
    "\n",
    "# 10秒間、1秒ごとに現在時刻を取得してデータベースに保存\n",
    "start_time = time.time()\n",
    "while time.time() - start_time < 10:\n",
    "    current_time = datetime.now().strftime('%Y-%m-%d %H:%M:%S')\n",
    "    print(f\"データを取得しています... {current_time}\")\n",
    "    c.execute(\"INSERT INTO data_log (timestamp) VALUES (?)\", (current_time,))\n",
    "    conn.commit()\n",
    "    time.sleep(1)\n",
    "\n",
    "# データベース接続を閉じる\n",
    "conn.close()"
   ]
  },
  {
   "cell_type": "markdown",
   "metadata": {},
   "source": [
    ">Step3_関数化＆scheduleライブラリを使ってコードの可読性と再利用性を高める"
   ]
  },
  {
   "cell_type": "code",
   "execution_count": 17,
   "metadata": {},
   "outputs": [
    {
     "name": "stdout",
     "output_type": "stream",
     "text": [
      "データを取得しています... 2024-08-04 14:11:41\n",
      "データを取得しています... 2024-08-04 14:11:41\n",
      "データを取得しています... 2024-08-04 14:11:41\n",
      "データを取得しています... 2024-08-04 14:11:42\n",
      "データを取得しています... 2024-08-04 14:11:43\n",
      "データを取得しています... 2024-08-04 14:11:44\n",
      "データを取得しています... 2024-08-04 14:11:44\n",
      "データを取得しています... 2024-08-04 14:11:45\n",
      "データを取得しています... 2024-08-04 14:11:45\n",
      "データを取得しています... 2024-08-04 14:11:45\n",
      "データを取得しています... 2024-08-04 14:11:45\n",
      "データを取得しています... 2024-08-04 14:11:45\n",
      "データを取得しています... 2024-08-04 14:11:45\n",
      "データを取得しています... 2024-08-04 14:11:45\n",
      "データを取得しています... 2024-08-04 14:11:46\n",
      "データを取得しています... 2024-08-04 14:11:46\n",
      "データを取得しています... 2024-08-04 14:11:46\n",
      "データを取得しています... 2024-08-04 14:11:46\n",
      "データを取得しています... 2024-08-04 14:11:47\n",
      "データを取得しています... 2024-08-04 14:11:48\n",
      "データを取得しています... 2024-08-04 14:11:49\n",
      "データを取得しています... 2024-08-04 14:11:49\n",
      "データを取得しています... 2024-08-04 14:11:50\n",
      "データを取得しています... 2024-08-04 14:11:50\n",
      "データを取得しています... 2024-08-04 14:11:50\n",
      "データを取得しています... 2024-08-04 14:11:50\n",
      "データを取得しています... 2024-08-04 14:11:50\n",
      "データを取得しています... 2024-08-04 14:11:50\n",
      "データを取得しています... 2024-08-04 14:11:50\n"
     ]
    }
   ],
   "source": [
    "import sqlite3\n",
    "from datetime import datetime\n",
    "import schedule\n",
    "import time\n",
    "\n",
    "# データベースに接続し、カーソルを作成\n",
    "conn = sqlite3.connect('sample.db')\n",
    "c = conn.cursor()\n",
    "\n",
    "# テーブルを作成（存在しない場合）\n",
    "c.execute('''CREATE TABLE IF NOT EXISTS data_log (timestamp TEXT)''')\n",
    "conn.commit()\n",
    "\n",
    "# 現在時刻を取得してデータベースに保存する関数\n",
    "def fetch_data():\n",
    "    # 現在時刻を取得\n",
    "    current_time = datetime.now().strftime('%Y-%m-%d %H:%M:%S')\n",
    "    print(f\"データを取得しています... {current_time}\")\n",
    "    # データベースに保存\n",
    "    c.execute(\"INSERT INTO data_log (timestamp) VALUES (?)\", (current_time,))\n",
    "    conn.commit()\n",
    "\n",
    "# 1秒ごとにfetch_data関数を実行するようにスケジュール\n",
    "schedule.every(1).seconds.do(fetch_data)\n",
    "\n",
    "# 10秒間スケジュールを実行\n",
    "start_time = time.time()\n",
    "while time.time() - start_time < 10:\n",
    "    schedule.run_pending()\n",
    "    time.sleep(1)\n",
    "\n",
    "# データベース接続を閉じる\n",
    "conn.close()"
   ]
  },
  {
   "cell_type": "markdown",
   "metadata": {},
   "source": [
    ">Step4_コード整理(関数化)を進める"
   ]
  },
  {
   "cell_type": "code",
   "execution_count": 6,
   "metadata": {},
   "outputs": [
    {
     "name": "stdout",
     "output_type": "stream",
     "text": [
      "データを取得しています... 2024-08-04 14:34:58\n",
      "データを取得しています... 2024-08-04 14:34:59\n",
      "データを取得しています... 2024-08-04 14:35:00\n",
      "データを取得しています... 2024-08-04 14:35:01\n",
      "データを取得しています... 2024-08-04 14:35:02\n",
      "データを取得しています... 2024-08-04 14:35:03\n",
      "前回の実行がまだ完了していません。スキップします。\n",
      "スケジュールを停止しました。\n"
     ]
    }
   ],
   "source": [
    "import sqlite3\n",
    "from datetime import datetime\n",
    "import time\n",
    "import schedule\n",
    "import threading\n",
    "\n",
    "# データベースに接続し、テーブルを作成\n",
    "def setup_database():\n",
    "    conn = sqlite3.connect('sample.db')\n",
    "    c = conn.cursor()\n",
    "    c.execute('''CREATE TABLE IF NOT EXISTS data_log (timestamp TEXT)''')\n",
    "    conn.commit()\n",
    "    conn.close()\n",
    "\n",
    "# データを取得してデータベースに保存\n",
    "def fetch_data():\n",
    "    global is_running\n",
    "    if is_running:\n",
    "        print(\"前回の実行がまだ完了していません。スキップします。\")\n",
    "        return\n",
    "    is_running = True\n",
    "    conn = sqlite3.connect('sample.db')\n",
    "    c = conn.cursor()\n",
    "    current_time = datetime.now().strftime('%Y-%m-%d %H:%M:%S')\n",
    "    print(f\"データを取得しています... {current_time}\")\n",
    "    c.execute(\"INSERT INTO data_log (timestamp) VALUES (?)\", (current_time,))\n",
    "    conn.commit()\n",
    "    conn.close()\n",
    "    is_running = False\n",
    "\n",
    "# スケジュールを設定\n",
    "def run_schedule():\n",
    "    while True:\n",
    "        schedule.run_pending()\n",
    "        time.sleep(1)\n",
    "\n",
    "# メイン関数\n",
    "def main():\n",
    "    global is_running\n",
    "    is_running = False\n",
    "    setup_database()\n",
    "    schedule.every(1).seconds.do(fetch_data)\n",
    "\n",
    "    # スケジュールを別スレッドで実行\n",
    "    thread = threading.Thread(target=run_schedule)\n",
    "    thread.start()\n",
    "\n",
    "    # 10秒後にスケジュールを停止\n",
    "    time.sleep(10)\n",
    "    schedule.clear()\n",
    "\n",
    "if __name__ == \"__main__\":\n",
    "    main()\n",
    "print(\"スケジュールを停止しました。\")"
   ]
  }
 ],
 "metadata": {
  "kernelspec": {
   "display_name": "Python 3",
   "language": "python",
   "name": "python3"
  },
  "language_info": {
   "codemirror_mode": {
    "name": "ipython",
    "version": 3
   },
   "file_extension": ".py",
   "mimetype": "text/x-python",
   "name": "python",
   "nbconvert_exporter": "python",
   "pygments_lexer": "ipython3",
   "version": "3.12.4"
  }
 },
 "nbformat": 4,
 "nbformat_minor": 2
}
